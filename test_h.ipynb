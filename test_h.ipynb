{
 "cells": [
  {
   "cell_type": "code",
   "execution_count": 14,
   "id": "509b989c",
   "metadata": {},
   "outputs": [
    {
     "data": {
      "text/html": [
       "\n",
       "    <style> body {font-family: \"Roboto Condensed Light\", \"Roboto Condensed\";} h2 {padding: 10px 12px; background-color: #E64626; position: static; color: #ffffff; font-size: 40px;} .text_cell_render p { font-size: 15px; } .text_cell_render h1 { font-size: 30px; } h1 {padding: 10px 12px; background-color: #E64626; color: #ffffff; font-size: 40px;} .text_cell_render h3 { padding: 10px 12px; background-color: #0148A4; position: static; color: #ffffff; font-size: 20px;} h4:before{ \n",
       "    content: \"@\"; font-family:\"Wingdings\"; font-style:regular; margin-right: 4px;} .text_cell_render h4 {padding: 8px; font-family: \"Roboto Condensed Light\"; position: static; font-style: italic; background-color: #FFB800; color: #ffffff; font-size: 18px; text-align: center; border-radius: 5px;}input[type=submit] {background-color: #E64626; border: solid; border-color: #734036; color: white; padding: 8px 16px; text-decoration: none; margin: 4px 2px; cursor: pointer; border-radius: 20px;}</style>\n",
       "    <script> code_show=true; function code_toggle() {if (code_show){$('div.input').hide();} else {$('div.input').show();} code_show = !code_show} $( document ).ready(code_toggle);</script>\n",
       "    <form action=\"javascript:code_toggle()\"><input type=\"submit\" value=\"Hide/show all code.\"></form>\n"
      ],
      "text/plain": [
       "<IPython.core.display.HTML object>"
      ]
     },
     "execution_count": 14,
     "metadata": {},
     "output_type": "execute_result"
    }
   ],
   "source": [
    "from IPython.display import HTML\n",
    "HTML('''\n",
    "    <style> body {font-family: \"Roboto Condensed Light\", \"Roboto Condensed\";} h2 {padding: 10px 12px; background-color: #E64626; position: static; color: #ffffff; font-size: 40px;} .text_cell_render p { font-size: 15px; } .text_cell_render h1 { font-size: 30px; } h1 {padding: 10px 12px; background-color: #E64626; color: #ffffff; font-size: 40px;} .text_cell_render h3 { padding: 10px 12px; background-color: #0148A4; position: static; color: #ffffff; font-size: 20px;} h4:before{ \n",
    "    content: \"@\"; font-family:\"Wingdings\"; font-style:regular; margin-right: 4px;} .text_cell_render h4 {padding: 8px; font-family: \"Roboto Condensed Light\"; position: static; font-style: italic; background-color: #FFB800; color: #ffffff; font-size: 18px; text-align: center; border-radius: 5px;}input[type=submit] {background-color: #E64626; border: solid; border-color: #734036; color: white; padding: 8px 16px; text-decoration: none; margin: 4px 2px; cursor: pointer; border-radius: 20px;}</style>\n",
    "    <script> code_show=true; function code_toggle() {if (code_show){$('div.input').hide();} else {$('div.input').show();} code_show = !code_show} $( document ).ready(code_toggle);</script>\n",
    "    <form action=\"javascript:code_toggle()\"><input type=\"submit\" value=\"Hide/show all code.\"></form>\n",
    "''') "
   ]
  },
  {
   "cell_type": "code",
   "execution_count": 15,
   "id": "a20bfc26",
   "metadata": {},
   "outputs": [],
   "source": [
    "from sqlalchemy import create_engine\n",
    "import psycopg2\n",
    "import psycopg2.extras\n",
    "import json\n",
    "import os\n",
    "import pandas as pd\n",
    "\n",
    "credentials = \"Credentials.json\"\n",
    "\n",
    "def pgconnect(credential_filepath, db_schema=\"public\"):\n",
    "    with open(credential_filepath) as f:\n",
    "        db_conn_dict = json.load(f)\n",
    "        host       = db_conn_dict['host']\n",
    "        db_user    = db_conn_dict['user']\n",
    "        db_pw      = db_conn_dict['password']\n",
    "        default_db = db_conn_dict['user']\n",
    "        try:\n",
    "            db = create_engine('postgresql+psycopg2://'+db_user+':'+db_pw+'@'+host+'/'+default_db, echo=False)\n",
    "            conn = db.connect()\n",
    "            print('Connected successfully.')\n",
    "        except Exception as e:\n",
    "            print(\"Unable to connect to the database.\")\n",
    "            print(e)\n",
    "            db, conn = None, None\n",
    "        return db,conn"
   ]
  },
  {
   "cell_type": "code",
   "execution_count": 18,
   "id": "2d1627cf",
   "metadata": {},
   "outputs": [
    {
     "name": "stdout",
     "output_type": "stream",
     "text": [
      "Connected successfully.\n"
     ]
    }
   ],
   "source": [
    "db, conn = pgconnect(credentials)"
   ]
  },
  {
   "cell_type": "code",
   "execution_count": 19,
   "id": "6fba9b60",
   "metadata": {},
   "outputs": [
    {
     "data": {
      "text/plain": [
       "['information_schema', 'nswfuel', 'prices', 'public', 'unitsofstudy']"
      ]
     },
     "execution_count": 19,
     "metadata": {},
     "output_type": "execute_result"
    }
   ],
   "source": [
    "from sqlalchemy import inspect\n",
    "inspect(db).get_schema_names()"
   ]
  },
  {
   "cell_type": "code",
   "execution_count": 24,
   "id": "a6c0f3bb",
   "metadata": {},
   "outputs": [
    {
     "data": {
      "text/plain": [
       "['prices', 'observations', 'stations', 'companies', 'fuel']"
      ]
     },
     "execution_count": 24,
     "metadata": {},
     "output_type": "execute_result"
    }
   ],
   "source": [
    "inspect(db).get_table_names(schema='nswfuel')"
   ]
  },
  {
   "cell_type": "code",
   "execution_count": 23,
   "id": "998872ab",
   "metadata": {},
   "outputs": [],
   "source": [
    "def query(conn, sqlcmd, args=None, df=True):\n",
    "    result = pd.DataFrame() if df else None\n",
    "    try:\n",
    "        if df:\n",
    "            result = pd.read_sql_query(sqlcmd, conn, params=args)\n",
    "        else:\n",
    "            result = conn.execute(sqlcmd, args).fetchall()\n",
    "            result = result[0] if len(result) == 1 else result\n",
    "    except Exception as e:\n",
    "        print(\"Error encountered: \", e, sep='\\n')\n",
    "    return result"
   ]
  },
  {
   "cell_type": "code",
   "execution_count": 25,
   "id": "573eb488",
   "metadata": {},
   "outputs": [
    {
     "data": {
      "text/plain": [
       "<sqlalchemy.engine.cursor.LegacyCursorResult at 0x7f96e84e02b0>"
      ]
     },
     "execution_count": 25,
     "metadata": {},
     "output_type": "execute_result"
    }
   ],
   "source": [
    "conn.execute(\"set search_path to public\")"
   ]
  },
  {
   "cell_type": "code",
   "execution_count": 28,
   "id": "5fe0b06c",
   "metadata": {},
   "outputs": [
    {
     "data": {
      "text/plain": [
       "<sqlalchemy.engine.cursor.LegacyCursorResult at 0x7f96e024a0d0>"
      ]
     },
     "execution_count": 28,
     "metadata": {},
     "output_type": "execute_result"
    }
   ],
   "source": [
    "conn.execute(\"select * from spatial_ref_sys\")"
   ]
  },
  {
   "cell_type": "code",
   "execution_count": 30,
   "id": "4069e701",
   "metadata": {},
   "outputs": [
    {
     "data": {
      "text/html": [
       "<div>\n",
       "<style scoped>\n",
       "    .dataframe tbody tr th:only-of-type {\n",
       "        vertical-align: middle;\n",
       "    }\n",
       "\n",
       "    .dataframe tbody tr th {\n",
       "        vertical-align: top;\n",
       "    }\n",
       "\n",
       "    .dataframe thead th {\n",
       "        text-align: right;\n",
       "    }\n",
       "</style>\n",
       "<table border=\"1\" class=\"dataframe\">\n",
       "  <thead>\n",
       "    <tr style=\"text-align: right;\">\n",
       "      <th></th>\n",
       "      <th>srid</th>\n",
       "      <th>auth_name</th>\n",
       "      <th>auth_srid</th>\n",
       "      <th>srtext</th>\n",
       "      <th>proj4text</th>\n",
       "    </tr>\n",
       "  </thead>\n",
       "  <tbody>\n",
       "    <tr>\n",
       "      <th>0</th>\n",
       "      <td>3819</td>\n",
       "      <td>EPSG</td>\n",
       "      <td>3819</td>\n",
       "      <td>GEOGCS[\"HD1909\",DATUM[\"Hungarian_Datum_1909\",S...</td>\n",
       "      <td>+proj=longlat +ellps=bessel +towgs84=595.48,12...</td>\n",
       "    </tr>\n",
       "    <tr>\n",
       "      <th>1</th>\n",
       "      <td>3821</td>\n",
       "      <td>EPSG</td>\n",
       "      <td>3821</td>\n",
       "      <td>GEOGCS[\"TWD67\",DATUM[\"Taiwan_Datum_1967\",SPHER...</td>\n",
       "      <td>+proj=longlat +ellps=aust_SA +no_defs</td>\n",
       "    </tr>\n",
       "    <tr>\n",
       "      <th>2</th>\n",
       "      <td>3824</td>\n",
       "      <td>EPSG</td>\n",
       "      <td>3824</td>\n",
       "      <td>GEOGCS[\"TWD97\",DATUM[\"Taiwan_Datum_1997\",SPHER...</td>\n",
       "      <td>+proj=longlat +ellps=GRS80 +towgs84=0,0,0,0,0,...</td>\n",
       "    </tr>\n",
       "    <tr>\n",
       "      <th>3</th>\n",
       "      <td>3889</td>\n",
       "      <td>EPSG</td>\n",
       "      <td>3889</td>\n",
       "      <td>GEOGCS[\"IGRS\",DATUM[\"Iraqi_Geospatial_Referenc...</td>\n",
       "      <td>+proj=longlat +ellps=GRS80 +towgs84=0,0,0,0,0,...</td>\n",
       "    </tr>\n",
       "    <tr>\n",
       "      <th>4</th>\n",
       "      <td>3906</td>\n",
       "      <td>EPSG</td>\n",
       "      <td>3906</td>\n",
       "      <td>GEOGCS[\"MGI 1901\",DATUM[\"MGI_1901\",SPHEROID[\"B...</td>\n",
       "      <td>+proj=longlat +ellps=bessel +towgs84=682,-203,...</td>\n",
       "    </tr>\n",
       "    <tr>\n",
       "      <th>...</th>\n",
       "      <td>...</td>\n",
       "      <td>...</td>\n",
       "      <td>...</td>\n",
       "      <td>...</td>\n",
       "      <td>...</td>\n",
       "    </tr>\n",
       "    <tr>\n",
       "      <th>8495</th>\n",
       "      <td>103967</td>\n",
       "      <td>ESRI</td>\n",
       "      <td>103967</td>\n",
       "      <td>PROJCS[\"NAD_1983_HARN_Adj_WI_Vilas_Feet (depre...</td>\n",
       "      <td>+proj=lcc +lat_0=45.625 +lon_0=-89.48888888888...</td>\n",
       "    </tr>\n",
       "    <tr>\n",
       "      <th>8496</th>\n",
       "      <td>103968</td>\n",
       "      <td>ESRI</td>\n",
       "      <td>103968</td>\n",
       "      <td>PROJCS[\"NAD_1983_HARN_Adj_WI_Walworth_Feet (de...</td>\n",
       "      <td>+proj=lcc +lat_0=41.6694444444444 +lon_0=-88.5...</td>\n",
       "    </tr>\n",
       "    <tr>\n",
       "      <th>8497</th>\n",
       "      <td>103969</td>\n",
       "      <td>ESRI</td>\n",
       "      <td>103969</td>\n",
       "      <td>PROJCS[\"NAD_1983_HARN_Adj_WI_Washburn_Feet (de...</td>\n",
       "      <td>+proj=lcc +lat_0=44.2666666666667 +lon_0=-91.7...</td>\n",
       "    </tr>\n",
       "    <tr>\n",
       "      <th>8498</th>\n",
       "      <td>103970</td>\n",
       "      <td>ESRI</td>\n",
       "      <td>103970</td>\n",
       "      <td>PROJCS[\"NAD_1983_HARN_Adj_WI_Waushara_Feet (de...</td>\n",
       "      <td>+proj=lcc +lat_0=43.7083333333333 +lon_0=-89.2...</td>\n",
       "    </tr>\n",
       "    <tr>\n",
       "      <th>8499</th>\n",
       "      <td>103971</td>\n",
       "      <td>ESRI</td>\n",
       "      <td>103971</td>\n",
       "      <td>PROJCS[\"NAD_1983_HARN_Adj_WI_Wood_Feet (deprec...</td>\n",
       "      <td>+proj=lcc +lat_0=43.1513888888889 +lon_0=-90 +...</td>\n",
       "    </tr>\n",
       "  </tbody>\n",
       "</table>\n",
       "<p>8500 rows × 5 columns</p>\n",
       "</div>"
      ],
      "text/plain": [
       "        srid auth_name  auth_srid  \\\n",
       "0       3819      EPSG       3819   \n",
       "1       3821      EPSG       3821   \n",
       "2       3824      EPSG       3824   \n",
       "3       3889      EPSG       3889   \n",
       "4       3906      EPSG       3906   \n",
       "...      ...       ...        ...   \n",
       "8495  103967      ESRI     103967   \n",
       "8496  103968      ESRI     103968   \n",
       "8497  103969      ESRI     103969   \n",
       "8498  103970      ESRI     103970   \n",
       "8499  103971      ESRI     103971   \n",
       "\n",
       "                                                 srtext  \\\n",
       "0     GEOGCS[\"HD1909\",DATUM[\"Hungarian_Datum_1909\",S...   \n",
       "1     GEOGCS[\"TWD67\",DATUM[\"Taiwan_Datum_1967\",SPHER...   \n",
       "2     GEOGCS[\"TWD97\",DATUM[\"Taiwan_Datum_1997\",SPHER...   \n",
       "3     GEOGCS[\"IGRS\",DATUM[\"Iraqi_Geospatial_Referenc...   \n",
       "4     GEOGCS[\"MGI 1901\",DATUM[\"MGI_1901\",SPHEROID[\"B...   \n",
       "...                                                 ...   \n",
       "8495  PROJCS[\"NAD_1983_HARN_Adj_WI_Vilas_Feet (depre...   \n",
       "8496  PROJCS[\"NAD_1983_HARN_Adj_WI_Walworth_Feet (de...   \n",
       "8497  PROJCS[\"NAD_1983_HARN_Adj_WI_Washburn_Feet (de...   \n",
       "8498  PROJCS[\"NAD_1983_HARN_Adj_WI_Waushara_Feet (de...   \n",
       "8499  PROJCS[\"NAD_1983_HARN_Adj_WI_Wood_Feet (deprec...   \n",
       "\n",
       "                                              proj4text  \n",
       "0     +proj=longlat +ellps=bessel +towgs84=595.48,12...  \n",
       "1                +proj=longlat +ellps=aust_SA +no_defs   \n",
       "2     +proj=longlat +ellps=GRS80 +towgs84=0,0,0,0,0,...  \n",
       "3     +proj=longlat +ellps=GRS80 +towgs84=0,0,0,0,0,...  \n",
       "4     +proj=longlat +ellps=bessel +towgs84=682,-203,...  \n",
       "...                                                 ...  \n",
       "8495  +proj=lcc +lat_0=45.625 +lon_0=-89.48888888888...  \n",
       "8496  +proj=lcc +lat_0=41.6694444444444 +lon_0=-88.5...  \n",
       "8497  +proj=lcc +lat_0=44.2666666666667 +lon_0=-91.7...  \n",
       "8498  +proj=lcc +lat_0=43.7083333333333 +lon_0=-89.2...  \n",
       "8499  +proj=lcc +lat_0=43.1513888888889 +lon_0=-90 +...  \n",
       "\n",
       "[8500 rows x 5 columns]"
      ]
     },
     "execution_count": 30,
     "metadata": {},
     "output_type": "execute_result"
    }
   ],
   "source": [
    "query(conn, \"select * from spatial_ref_sys\")"
   ]
  },
  {
   "cell_type": "code",
   "execution_count": null,
   "id": "2dc47303",
   "metadata": {},
   "outputs": [],
   "source": []
  }
 ],
 "metadata": {
  "kernelspec": {
   "display_name": "Python 3.9.7 64-bit ('base': conda)",
   "language": "python",
   "name": "python397jvsc74a57bd053d863e6a1024d457f4643eeebdb16aac2244bab89fcd32fd260c394cd322a94"
  },
  "language_info": {
   "codemirror_mode": {
    "name": "ipython",
    "version": 3
   },
   "file_extension": ".py",
   "mimetype": "text/x-python",
   "name": "python",
   "nbconvert_exporter": "python",
   "pygments_lexer": "ipython3",
   "version": "3.9.7"
  }
 },
 "nbformat": 4,
 "nbformat_minor": 5
}
